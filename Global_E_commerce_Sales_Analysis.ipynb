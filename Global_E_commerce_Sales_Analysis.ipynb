{
  "nbformat": 4,
  "nbformat_minor": 0,
  "metadata": {
    "colab": {
      "private_outputs": true,
      "provenance": [],
      "authorship_tag": "ABX9TyN5ey1L7WgIs93vHUg6ZH7M",
      "include_colab_link": true
    },
    "kernelspec": {
      "name": "python3",
      "display_name": "Python 3"
    },
    "language_info": {
      "name": "python"
    }
  },
  "cells": [
    {
      "cell_type": "markdown",
      "metadata": {
        "id": "view-in-github",
        "colab_type": "text"
      },
      "source": [
        "<a href=\"https://colab.research.google.com/github/moushumipriya/Global-E-commerce-Sales-Analysis/blob/main/Global_E_commerce_Sales_Analysis.ipynb\" target=\"_parent\"><img src=\"https://colab.research.google.com/assets/colab-badge.svg\" alt=\"Open In Colab\"/></a>"
      ]
    },
    {
      "cell_type": "code",
      "execution_count": null,
      "metadata": {
        "id": "whjMf_7LHaBO"
      },
      "outputs": [],
      "source": [
        "import pandas as pd\n",
        "import numpy as np\n",
        "import matplotlib.pyplot as plt\n",
        "import seaborn as sns\n"
      ]
    },
    {
      "cell_type": "markdown",
      "source": [
        "Load Data & Inspect"
      ],
      "metadata": {
        "id": "dHlHWu6iKRgC"
      }
    },
    {
      "cell_type": "code",
      "source": [
        "df = pd.read_csv(\"data.csv\", encoding='ISO-8859-1')\n",
        "df.head()\n",
        "df.info()\n",
        "df.describe()\n"
      ],
      "metadata": {
        "id": "RcNsLTX9Hb0C"
      },
      "execution_count": null,
      "outputs": []
    },
    {
      "cell_type": "markdown",
      "source": [
        "Data Cleaning"
      ],
      "metadata": {
        "id": "gY6z9mIaKbEa"
      }
    },
    {
      "cell_type": "code",
      "source": [
        "# Drop duplicates\n",
        "df.drop_duplicates(inplace=True)\n",
        "\n",
        "# Check missing values\n",
        "df.isnull().sum()\n",
        "\n",
        "# Drop rows with missing CustomerID or InvoiceNo\n",
        "df = df.dropna(subset=['CustomerID', 'InvoiceNo'])\n"
      ],
      "metadata": {
        "id": "vxyPrjunHb3K"
      },
      "execution_count": null,
      "outputs": []
    },
    {
      "cell_type": "markdown",
      "source": [
        "Exploratory Data Analysis (EDA)\n",
        "\n",
        "1.Top-selling products"
      ],
      "metadata": {
        "id": "J8asMhZJKdxK"
      }
    },
    {
      "cell_type": "code",
      "source": [
        "top_products = df.groupby('Description')['Quantity'].sum().sort_values(ascending=False).head(10)\n",
        "plt.figure(figsize=(10,6))\n",
        "sns.barplot(x=top_products.values, y=top_products.index)\n",
        "plt.title(\"Top 10 Selling Products\")\n",
        "plt.xlabel(\"Quantity Sold\")\n",
        "plt.show()\n"
      ],
      "metadata": {
        "id": "voeXEvtvHb5d"
      },
      "execution_count": null,
      "outputs": []
    },
    {
      "cell_type": "markdown",
      "source": [
        "Country-wise sales"
      ],
      "metadata": {
        "id": "bG2kOaJ1KkeK"
      }
    },
    {
      "cell_type": "code",
      "source": [
        "country_sales = df.groupby('Country')['Quantity'].sum().sort_values(ascending=False).head(10)\n",
        "plt.figure(figsize=(10,6))\n",
        "sns.barplot(x=country_sales.values, y=country_sales.index)\n",
        "plt.title(\"Top 10 Countries by Sales Quantity\")\n",
        "plt.xlabel(\"Quantity Sold\")\n",
        "plt.show()\n"
      ],
      "metadata": {
        "id": "CW3q0_hCHb8D"
      },
      "execution_count": null,
      "outputs": []
    },
    {
      "cell_type": "markdown",
      "source": [
        "Monthly Revenue Trend"
      ],
      "metadata": {
        "id": "amT2Up_MKnJa"
      }
    },
    {
      "cell_type": "code",
      "source": [
        "# Convert InvoiceDate to datetime\n",
        "df['InvoiceDate'] = pd.to_datetime(df['InvoiceDate'])\n",
        "\n",
        "# Revenue = Quantity * UnitPrice\n",
        "df['Revenue'] = df['Quantity'] * df['UnitPrice']\n",
        "\n",
        "# Monthly revenue\n",
        "monthly_revenue = df.groupby(df['InvoiceDate'].dt.to_period('M'))['Revenue'].sum()\n",
        "monthly_revenue.plot(kind='line', figsize=(12,6), marker='o')\n",
        "plt.title(\"Monthly Revenue Trend\")\n",
        "plt.xlabel(\"Month\")\n",
        "plt.ylabel(\"Revenue\")\n",
        "plt.show()\n"
      ],
      "metadata": {
        "id": "xGMAmvI6Hb-F"
      },
      "execution_count": null,
      "outputs": []
    },
    {
      "cell_type": "markdown",
      "source": [
        "Customer Purchase Frequency"
      ],
      "metadata": {
        "id": "HTV3vTYiKqGC"
      }
    },
    {
      "cell_type": "code",
      "source": [
        "customer_freq = df.groupby('CustomerID')['InvoiceNo'].nunique()\n",
        "plt.figure(figsize=(10,6))\n",
        "sns.histplot(customer_freq, bins=50, kde=False)\n",
        "plt.title(\"Customer Purchase Frequency\")\n",
        "plt.xlabel(\"Number of Orders\")\n",
        "plt.ylabel(\"Number of Customers\")\n",
        "plt.show()\n"
      ],
      "metadata": {
        "id": "ibvyn-blHcAk"
      },
      "execution_count": null,
      "outputs": []
    },
    {
      "cell_type": "markdown",
      "source": [],
      "metadata": {
        "id": "sisx13f3KtVb"
      }
    }
  ]
}